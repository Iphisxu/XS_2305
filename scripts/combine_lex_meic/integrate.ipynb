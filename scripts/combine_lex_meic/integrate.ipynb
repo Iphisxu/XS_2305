{
 "cells": [
  {
   "cell_type": "markdown",
   "metadata": {},
   "source": [
    "# 杭州萧山区项目\n",
    "## 本地排放清单插入MEIC\n",
    "## `Integrate LEX into MEIC`\n",
    "\n",
    "---\n",
    "*@author: Evan*\\\n",
    "*@date: 2023-07-24*"
   ]
  },
  {
   "cell_type": "code",
   "execution_count": 1,
   "metadata": {},
   "outputs": [],
   "source": [
    "import xarray as xr\n",
    "import numpy as np\n",
    "import pandas as pd\n",
    "import os\n",
    "\n",
    "# silence the warning note\n",
    "import warnings\n",
    "warnings.filterwarnings(\"ignore\")\n",
    "\n",
    "import sys\n",
    "sys.path.append('../../src/')\n",
    "from namelist import *\n",
    "from integrate import *"
   ]
  },
  {
   "cell_type": "code",
   "execution_count": 2,
   "metadata": {},
   "outputs": [],
   "source": [
    "ncfile = xr.open_dataset('D:/data/Project_Xiaoshan/GRIDCRO2D_2022234.nc')\n",
    "lon = ncfile.LON.squeeze()\n",
    "lat = ncfile.LAT.squeeze()\n",
    "\n",
    "shp = gpd.read_file('D:/data/Project_Xiaoshan/shapefile/萧山区/萧山区.shp')\n",
    "\n",
    "mask = polygon_to_mask(shp.geometry[0],lon,lat)\n",
    "mask_da = xr.DataArray(mask,dims=('ROW','COL'))"
   ]
  },
  {
   "cell_type": "code",
   "execution_count": 3,
   "metadata": {},
   "outputs": [],
   "source": [
    "sections = ['ind','pow','tra','res','agr']\n",
    "\n",
    "for sec in sections:\n",
    "    ds_A = xr.open_dataset(eval(f'lex_{sec}_file'))\n",
    "    ds_B = xr.open_dataset(eval(f'meic_{sec}_file'))\n",
    "\n",
    "    merged = merge_datasets(mask_da,ds_A,ds_B)\n",
    "    merged.to_netcdf(f'D:/Download/emis.CN3XS_135X138.{sec}.ncf')"
   ]
  }
 ],
 "metadata": {
  "kernelspec": {
   "display_name": "base",
   "language": "python",
   "name": "python3"
  },
  "language_info": {
   "codemirror_mode": {
    "name": "ipython",
    "version": 3
   },
   "file_extension": ".py",
   "mimetype": "text/x-python",
   "name": "python",
   "nbconvert_exporter": "python",
   "pygments_lexer": "ipython3",
   "version": "3.10.12"
  },
  "orig_nbformat": 4
 },
 "nbformat": 4,
 "nbformat_minor": 2
}
